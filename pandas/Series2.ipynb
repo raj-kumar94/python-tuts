{
 "cells": [
  {
   "cell_type": "code",
   "execution_count": 2,
   "metadata": {
    "collapsed": true
   },
   "outputs": [],
   "source": [
    "import pandas as pd"
   ]
  },
  {
   "cell_type": "code",
   "execution_count": 7,
   "metadata": {},
   "outputs": [
    {
     "data": {
      "text/plain": [
       "pandas.core.series.Series"
      ]
     },
     "execution_count": 7,
     "metadata": {},
     "output_type": "execute_result"
    }
   ],
   "source": [
    "pokemons = pd.read_csv(\"pokemon.csv\", index_col=\"Pokemon\", squeeze=True)\n",
    "pokemons.head(4)\n",
    "type(pokemons)"
   ]
  },
  {
   "cell_type": "markdown",
   "metadata": {},
   "source": [
    "# print all rows from key Bulbasaur to key Butterfree"
   ]
  },
  {
   "cell_type": "code",
   "execution_count": 11,
   "metadata": {},
   "outputs": [
    {
     "data": {
      "text/plain": [
       "Pokemon\n",
       "Bulbasaur     Grass\n",
       "Ivysaur       Grass\n",
       "Venusaur      Grass\n",
       "Charmander     Fire\n",
       "Charmeleon     Fire\n",
       "Charizard      Fire\n",
       "Squirtle      Water\n",
       "Wartortle     Water\n",
       "Blastoise     Water\n",
       "Caterpie        Bug\n",
       "Metapod         Bug\n",
       "Butterfree      Bug\n",
       "Name: Type, dtype: object"
      ]
     },
     "execution_count": 11,
     "metadata": {},
     "output_type": "execute_result"
    }
   ],
   "source": [
    "pokemons[\"Bulbasaur\":\"Butterfree\"]"
   ]
  },
  {
   "cell_type": "markdown",
   "metadata": {},
   "source": [
    "# using get method to get the values #############"
   ]
  },
  {
   "cell_type": "code",
   "execution_count": 21,
   "metadata": {},
   "outputs": [
    {
     "ename": "KeyError",
     "evalue": "'Digimon'",
     "output_type": "error",
     "traceback": [
      "\u001b[1;31m---------------------------------------------------------------------------\u001b[0m",
      "\u001b[1;31mTypeError\u001b[0m                                 Traceback (most recent call last)",
      "\u001b[1;32mC:\\Users\\raj\\Anaconda3\\lib\\site-packages\\pandas\\core\\indexes\\base.py\u001b[0m in \u001b[0;36mget_value\u001b[1;34m(self, series, key)\u001b[0m\n\u001b[0;32m   2433\u001b[0m             \u001b[1;32mtry\u001b[0m\u001b[1;33m:\u001b[0m\u001b[1;33m\u001b[0m\u001b[0m\n\u001b[1;32m-> 2434\u001b[1;33m                 \u001b[1;32mreturn\u001b[0m \u001b[0mlibts\u001b[0m\u001b[1;33m.\u001b[0m\u001b[0mget_value_box\u001b[0m\u001b[1;33m(\u001b[0m\u001b[0ms\u001b[0m\u001b[1;33m,\u001b[0m \u001b[0mkey\u001b[0m\u001b[1;33m)\u001b[0m\u001b[1;33m\u001b[0m\u001b[0m\n\u001b[0m\u001b[0;32m   2435\u001b[0m             \u001b[1;32mexcept\u001b[0m \u001b[0mIndexError\u001b[0m\u001b[1;33m:\u001b[0m\u001b[1;33m\u001b[0m\u001b[0m\n",
      "\u001b[1;32mpandas\\_libs\\tslib.pyx\u001b[0m in \u001b[0;36mpandas._libs.tslib.get_value_box (pandas\\_libs\\tslib.c:18843)\u001b[1;34m()\u001b[0m\n",
      "\u001b[1;32mpandas\\_libs\\tslib.pyx\u001b[0m in \u001b[0;36mpandas._libs.tslib.get_value_box (pandas\\_libs\\tslib.c:18477)\u001b[1;34m()\u001b[0m\n",
      "\u001b[1;31mTypeError\u001b[0m: 'str' object cannot be interpreted as an integer",
      "\nDuring handling of the above exception, another exception occurred:\n",
      "\u001b[1;31mKeyError\u001b[0m                                  Traceback (most recent call last)",
      "\u001b[1;32m<ipython-input-21-51889d638bb9>\u001b[0m in \u001b[0;36m<module>\u001b[1;34m()\u001b[0m\n\u001b[1;32m----> 1\u001b[1;33m \u001b[0mpokemons\u001b[0m\u001b[1;33m[\u001b[0m\u001b[1;34m\"Digimon\"\u001b[0m\u001b[1;33m]\u001b[0m\u001b[1;33m\u001b[0m\u001b[0m\n\u001b[0m",
      "\u001b[1;32mC:\\Users\\raj\\Anaconda3\\lib\\site-packages\\pandas\\core\\series.py\u001b[0m in \u001b[0;36m__getitem__\u001b[1;34m(self, key)\u001b[0m\n\u001b[0;32m    599\u001b[0m         \u001b[0mkey\u001b[0m \u001b[1;33m=\u001b[0m \u001b[0mcom\u001b[0m\u001b[1;33m.\u001b[0m\u001b[0m_apply_if_callable\u001b[0m\u001b[1;33m(\u001b[0m\u001b[0mkey\u001b[0m\u001b[1;33m,\u001b[0m \u001b[0mself\u001b[0m\u001b[1;33m)\u001b[0m\u001b[1;33m\u001b[0m\u001b[0m\n\u001b[0;32m    600\u001b[0m         \u001b[1;32mtry\u001b[0m\u001b[1;33m:\u001b[0m\u001b[1;33m\u001b[0m\u001b[0m\n\u001b[1;32m--> 601\u001b[1;33m             \u001b[0mresult\u001b[0m \u001b[1;33m=\u001b[0m \u001b[0mself\u001b[0m\u001b[1;33m.\u001b[0m\u001b[0mindex\u001b[0m\u001b[1;33m.\u001b[0m\u001b[0mget_value\u001b[0m\u001b[1;33m(\u001b[0m\u001b[0mself\u001b[0m\u001b[1;33m,\u001b[0m \u001b[0mkey\u001b[0m\u001b[1;33m)\u001b[0m\u001b[1;33m\u001b[0m\u001b[0m\n\u001b[0m\u001b[0;32m    602\u001b[0m \u001b[1;33m\u001b[0m\u001b[0m\n\u001b[0;32m    603\u001b[0m             \u001b[1;32mif\u001b[0m \u001b[1;32mnot\u001b[0m \u001b[0mis_scalar\u001b[0m\u001b[1;33m(\u001b[0m\u001b[0mresult\u001b[0m\u001b[1;33m)\u001b[0m\u001b[1;33m:\u001b[0m\u001b[1;33m\u001b[0m\u001b[0m\n",
      "\u001b[1;32mC:\\Users\\raj\\Anaconda3\\lib\\site-packages\\pandas\\core\\indexes\\base.py\u001b[0m in \u001b[0;36mget_value\u001b[1;34m(self, series, key)\u001b[0m\n\u001b[0;32m   2440\u001b[0m                     \u001b[1;32mraise\u001b[0m \u001b[0mInvalidIndexError\u001b[0m\u001b[1;33m(\u001b[0m\u001b[0mkey\u001b[0m\u001b[1;33m)\u001b[0m\u001b[1;33m\u001b[0m\u001b[0m\n\u001b[0;32m   2441\u001b[0m                 \u001b[1;32melse\u001b[0m\u001b[1;33m:\u001b[0m\u001b[1;33m\u001b[0m\u001b[0m\n\u001b[1;32m-> 2442\u001b[1;33m                     \u001b[1;32mraise\u001b[0m \u001b[0me1\u001b[0m\u001b[1;33m\u001b[0m\u001b[0m\n\u001b[0m\u001b[0;32m   2443\u001b[0m             \u001b[1;32mexcept\u001b[0m \u001b[0mException\u001b[0m\u001b[1;33m:\u001b[0m  \u001b[1;31m# pragma: no cover\u001b[0m\u001b[1;33m\u001b[0m\u001b[0m\n\u001b[0;32m   2444\u001b[0m                 \u001b[1;32mraise\u001b[0m \u001b[0me1\u001b[0m\u001b[1;33m\u001b[0m\u001b[0m\n",
      "\u001b[1;32mC:\\Users\\raj\\Anaconda3\\lib\\site-packages\\pandas\\core\\indexes\\base.py\u001b[0m in \u001b[0;36mget_value\u001b[1;34m(self, series, key)\u001b[0m\n\u001b[0;32m   2426\u001b[0m         \u001b[1;32mtry\u001b[0m\u001b[1;33m:\u001b[0m\u001b[1;33m\u001b[0m\u001b[0m\n\u001b[0;32m   2427\u001b[0m             return self._engine.get_value(s, k,\n\u001b[1;32m-> 2428\u001b[1;33m                                           tz=getattr(series.dtype, 'tz', None))\n\u001b[0m\u001b[0;32m   2429\u001b[0m         \u001b[1;32mexcept\u001b[0m \u001b[0mKeyError\u001b[0m \u001b[1;32mas\u001b[0m \u001b[0me1\u001b[0m\u001b[1;33m:\u001b[0m\u001b[1;33m\u001b[0m\u001b[0m\n\u001b[0;32m   2430\u001b[0m             \u001b[1;32mif\u001b[0m \u001b[0mlen\u001b[0m\u001b[1;33m(\u001b[0m\u001b[0mself\u001b[0m\u001b[1;33m)\u001b[0m \u001b[1;33m>\u001b[0m \u001b[1;36m0\u001b[0m \u001b[1;32mand\u001b[0m \u001b[0mself\u001b[0m\u001b[1;33m.\u001b[0m\u001b[0minferred_type\u001b[0m \u001b[1;32min\u001b[0m \u001b[1;33m[\u001b[0m\u001b[1;34m'integer'\u001b[0m\u001b[1;33m,\u001b[0m \u001b[1;34m'boolean'\u001b[0m\u001b[1;33m]\u001b[0m\u001b[1;33m:\u001b[0m\u001b[1;33m\u001b[0m\u001b[0m\n",
      "\u001b[1;32mpandas\\_libs\\index.pyx\u001b[0m in \u001b[0;36mpandas._libs.index.IndexEngine.get_value (pandas\\_libs\\index.c:4363)\u001b[1;34m()\u001b[0m\n",
      "\u001b[1;32mpandas\\_libs\\index.pyx\u001b[0m in \u001b[0;36mpandas._libs.index.IndexEngine.get_value (pandas\\_libs\\index.c:4046)\u001b[1;34m()\u001b[0m\n",
      "\u001b[1;32mpandas\\_libs\\index.pyx\u001b[0m in \u001b[0;36mpandas._libs.index.IndexEngine.get_loc (pandas\\_libs\\index.c:5085)\u001b[1;34m()\u001b[0m\n",
      "\u001b[1;32mpandas\\_libs\\hashtable_class_helper.pxi\u001b[0m in \u001b[0;36mpandas._libs.hashtable.PyObjectHashTable.get_item (pandas\\_libs\\hashtable.c:20405)\u001b[1;34m()\u001b[0m\n",
      "\u001b[1;32mpandas\\_libs\\hashtable_class_helper.pxi\u001b[0m in \u001b[0;36mpandas._libs.hashtable.PyObjectHashTable.get_item (pandas\\_libs\\hashtable.c:20359)\u001b[1;34m()\u001b[0m\n",
      "\u001b[1;31mKeyError\u001b[0m: 'Digimon'"
     ]
    }
   ],
   "source": [
    "pokemons[\"Digimon\"]"
   ]
  },
  {
   "cell_type": "code",
   "execution_count": 23,
   "metadata": {
    "collapsed": true
   },
   "outputs": [],
   "source": [
    "pokemons.get(key=\"Digimon\")"
   ]
  },
  {
   "cell_type": "code",
   "execution_count": 24,
   "metadata": {},
   "outputs": [
    {
     "data": {
      "text/plain": [
       "'This is not a pokemon'"
      ]
     },
     "execution_count": 24,
     "metadata": {},
     "output_type": "execute_result"
    }
   ],
   "source": [
    "pokemons.get(key=\"Digimon\", default=\"This is not a pokemon\")"
   ]
  },
  {
   "cell_type": "markdown",
   "metadata": {},
   "source": [
    "# lec 39 maths operations on series object ##########"
   ]
  },
  {
   "cell_type": "code",
   "execution_count": 13,
   "metadata": {},
   "outputs": [
    {
     "data": {
      "text/plain": [
       "3012"
      ]
     },
     "execution_count": 13,
     "metadata": {},
     "output_type": "execute_result"
    }
   ],
   "source": [
    "google  = pd.read_csv(\"google_stock_price.csv\", squeeze=True)\n",
    "google.count()"
   ]
  },
  {
   "cell_type": "code",
   "execution_count": 28,
   "metadata": {},
   "outputs": [
    {
     "data": {
      "text/plain": [
       "2.0000000002328306"
      ]
     },
     "execution_count": 28,
     "metadata": {},
     "output_type": "execute_result"
    }
   ],
   "source": [
    "google.sum()%10"
   ]
  },
  {
   "cell_type": "code",
   "execution_count": 29,
   "metadata": {},
   "outputs": [
    {
     "data": {
      "text/plain": [
       "3012"
      ]
     },
     "execution_count": 29,
     "metadata": {},
     "output_type": "execute_result"
    }
   ],
   "source": [
    "len(google)"
   ]
  },
  {
   "cell_type": "code",
   "execution_count": 30,
   "metadata": {},
   "outputs": [
    {
     "data": {
      "text/plain": [
       "334.31009296148744"
      ]
     },
     "execution_count": 30,
     "metadata": {},
     "output_type": "execute_result"
    }
   ],
   "source": [
    "google.mean()"
   ]
  },
  {
   "cell_type": "code",
   "execution_count": 31,
   "metadata": {},
   "outputs": [
    {
     "data": {
      "text/plain": [
       "334.31009296148744"
      ]
     },
     "execution_count": 31,
     "metadata": {},
     "output_type": "execute_result"
    }
   ],
   "source": [
    "google.sum()/google.count()"
   ]
  },
  {
   "cell_type": "code",
   "execution_count": 32,
   "metadata": {},
   "outputs": [
    {
     "data": {
      "text/plain": [
       "173.18720477113106"
      ]
     },
     "execution_count": 32,
     "metadata": {},
     "output_type": "execute_result"
    }
   ],
   "source": [
    "google.std() #standart deviation"
   ]
  },
  {
   "cell_type": "code",
   "execution_count": 33,
   "metadata": {},
   "outputs": [
    {
     "data": {
      "text/plain": [
       "283.315"
      ]
     },
     "execution_count": 33,
     "metadata": {},
     "output_type": "execute_result"
    }
   ],
   "source": [
    "google.median()"
   ]
  },
  {
   "cell_type": "code",
   "execution_count": 34,
   "metadata": {},
   "outputs": [
    {
     "data": {
      "text/plain": [
       "0    291.21\n",
       "dtype: float64"
      ]
     },
     "execution_count": 34,
     "metadata": {},
     "output_type": "execute_result"
    }
   ],
   "source": [
    "google.mode()"
   ]
  },
  {
   "cell_type": "code",
   "execution_count": 35,
   "metadata": {},
   "outputs": [
    {
     "data": {
      "text/plain": [
       "count    3012.000000\n",
       "mean      334.310093\n",
       "std       173.187205\n",
       "min        49.950000\n",
       "25%       218.045000\n",
       "50%       283.315000\n",
       "75%       443.000000\n",
       "max       782.220000\n",
       "Name: Stock Price, dtype: float64"
      ]
     },
     "execution_count": 35,
     "metadata": {},
     "output_type": "execute_result"
    }
   ],
   "source": [
    "google.describe()"
   ]
  },
  {
   "cell_type": "markdown",
   "metadata": {},
   "source": [
    "# lec 40 idxmax() and idxmin()"
   ]
  },
  {
   "cell_type": "code",
   "execution_count": 36,
   "metadata": {},
   "outputs": [
    {
     "data": {
      "text/plain": [
       "782.22000000000003"
      ]
     },
     "execution_count": 36,
     "metadata": {},
     "output_type": "execute_result"
    }
   ],
   "source": [
    "google.max()"
   ]
  },
  {
   "cell_type": "code",
   "execution_count": 37,
   "metadata": {},
   "outputs": [
    {
     "data": {
      "text/plain": [
       "3011"
      ]
     },
     "execution_count": 37,
     "metadata": {},
     "output_type": "execute_result"
    }
   ],
   "source": [
    "google.idxmax()"
   ]
  },
  {
   "cell_type": "code",
   "execution_count": 39,
   "metadata": {},
   "outputs": [
    {
     "data": {
      "text/plain": [
       "782.22000000000003"
      ]
     },
     "execution_count": 39,
     "metadata": {},
     "output_type": "execute_result"
    }
   ],
   "source": [
    "google[3011]"
   ]
  },
  {
   "cell_type": "code",
   "execution_count": 41,
   "metadata": {},
   "outputs": [
    {
     "data": {
      "text/plain": [
       "3010    771.61\n",
       "3011    782.22\n",
       "Name: Stock Price, dtype: float64"
      ]
     },
     "execution_count": 41,
     "metadata": {},
     "output_type": "execute_result"
    }
   ],
   "source": [
    "google[[3010,3011]]"
   ]
  },
  {
   "cell_type": "code",
   "execution_count": 17,
   "metadata": {},
   "outputs": [
    {
     "data": {
      "text/plain": [
       "0        50.12\n",
       "1        54.10\n",
       "2        54.65\n",
       "3        52.38\n",
       "4        52.95\n",
       "5        53.90\n",
       "6        53.02\n",
       "7        50.95\n",
       "8        51.13\n",
       "9        50.07\n",
       "10       50.70\n",
       "11       49.95\n",
       "12       50.74\n",
       "13       51.10\n",
       "14       51.10\n",
       "15       52.61\n",
       "16       53.70\n",
       "17       55.69\n",
       "18       55.94\n",
       "19       56.93\n",
       "20       58.69\n",
       "21       59.62\n",
       "22       58.86\n",
       "23       59.13\n",
       "24       60.35\n",
       "25       59.86\n",
       "26       59.07\n",
       "27       63.37\n",
       "28       65.47\n",
       "29       64.74\n",
       "         ...  \n",
       "2982    675.22\n",
       "2983    668.26\n",
       "2984    680.04\n",
       "2985    684.11\n",
       "2986    692.10\n",
       "2987    699.21\n",
       "2988    694.49\n",
       "2989    697.77\n",
       "2990    695.36\n",
       "2991    705.63\n",
       "2992    715.09\n",
       "2993    720.64\n",
       "2994    716.98\n",
       "2995    720.95\n",
       "2996    719.85\n",
       "2997    733.78\n",
       "2998    736.96\n",
       "2999    741.19\n",
       "3000    738.63\n",
       "3001    742.74\n",
       "3002    739.77\n",
       "3003    738.42\n",
       "3004    741.77\n",
       "3005    745.91\n",
       "3006    768.79\n",
       "3007    772.88\n",
       "3008    771.07\n",
       "3009    773.18\n",
       "3010    771.61\n",
       "3011    782.22\n",
       "Name: Stock Price, Length: 3012, dtype: float64"
      ]
     },
     "execution_count": 17,
     "metadata": {},
     "output_type": "execute_result"
    }
   ],
   "source": [
    "google.idxmin()"
   ]
  },
  {
   "cell_type": "code",
   "execution_count": 49,
   "metadata": {},
   "outputs": [
    {
     "data": {
      "text/plain": [
       "291.21    5\n",
       "288.47    3\n",
       "194.80    3\n",
       "307.94    3\n",
       "243.26    3\n",
       "237.69    3\n",
       "289.71    3\n",
       "93.61     2\n",
       "287.85    2\n",
       "156.81    2\n",
       "281.87    2\n",
       "292.70    2\n",
       "274.23    2\n",
       "263.77    2\n",
       "271.01    2\n",
       "96.88     2\n",
       "307.91    2\n",
       "97.92     2\n",
       "254.74    2\n",
       "300.09    2\n",
       "190.31    2\n",
       "201.79    2\n",
       "575.28    2\n",
       "257.49    2\n",
       "86.19     2\n",
       "265.73    2\n",
       "145.48    2\n",
       "201.29    2\n",
       "242.16    2\n",
       "361.26    2\n",
       "         ..\n",
       "311.94    1\n",
       "695.94    1\n",
       "59.13     1\n",
       "704.24    1\n",
       "225.34    1\n",
       "187.03    1\n",
       "316.67    1\n",
       "252.93    1\n",
       "316.25    1\n",
       "577.53    1\n",
       "443.44    1\n",
       "210.04    1\n",
       "512.26    1\n",
       "319.47    1\n",
       "162.58    1\n",
       "705.07    1\n",
       "249.12    1\n",
       "295.86    1\n",
       "68.63     1\n",
       "530.42    1\n",
       "611.29    1\n",
       "170.11    1\n",
       "295.10    1\n",
       "759.00    1\n",
       "305.23    1\n",
       "294.94    1\n",
       "548.34    1\n",
       "261.09    1\n",
       "348.91    1\n",
       "92.50     1\n",
       "Name: Stock Price, Length: 2886, dtype: int64"
      ]
     },
     "execution_count": 49,
     "metadata": {},
     "output_type": "execute_result"
    }
   ],
   "source": [
    "google.value_counts()"
   ]
  },
  {
   "cell_type": "code",
   "execution_count": 50,
   "metadata": {},
   "outputs": [
    {
     "data": {
      "text/plain": [
       "Water       105\n",
       "Normal       93\n",
       "Grass        66\n",
       "Bug          63\n",
       "Fire         47\n",
       "Psychic      47\n",
       "Rock         41\n",
       "Electric     36\n",
       "Ground       30\n",
       "Dark         28\n",
       "Poison       28\n",
       "Fighting     25\n",
       "Dragon       24\n",
       "Ghost        23\n",
       "Ice          23\n",
       "Steel        22\n",
       "Fairy        17\n",
       "Flying        3\n",
       "Name: Type, dtype: int64"
      ]
     },
     "execution_count": 50,
     "metadata": {},
     "output_type": "execute_result"
    }
   ],
   "source": [
    "pokemons.value_counts()"
   ]
  },
  {
   "cell_type": "code",
   "execution_count": 51,
   "metadata": {},
   "outputs": [
    {
     "data": {
      "text/plain": [
       "721"
      ]
     },
     "execution_count": 51,
     "metadata": {},
     "output_type": "execute_result"
    }
   ],
   "source": [
    "pokemons.value_counts().sum()"
   ]
  },
  {
   "cell_type": "code",
   "execution_count": 52,
   "metadata": {},
   "outputs": [
    {
     "data": {
      "text/plain": [
       "'GrassGrassGrassFireFireFireWaterWaterWaterBugBugBugBugBugBugNormalNormalNormalNormalNormalNormalNormalPoisonPoisonElectricElectricGroundGroundPoisonPoisonPoisonPoisonPoisonPoisonFairyFairyFireFireNormalNormalPoisonPoisonGrassGrassGrassBugBugBugBugGroundGroundNormalNormalWaterWaterFightingFightingFireFireWaterWaterWaterPsychicPsychicPsychicFightingFightingFightingGrassGrassGrassWaterWaterRockRockRockFireFireWaterWaterElectricElectricNormalNormalNormalWaterWaterPoisonPoisonWaterWaterGhostGhostGhostRockPsychicPsychicWaterWaterElectricElectricGrassGrassGroundGroundFightingFightingNormalPoisonPoisonGroundGroundNormalGrassNormalWaterWaterWaterWaterWaterWaterPsychicBugIceElectricFireBugNormalWaterWaterWaterNormalNormalWaterElectricFireNormalRockRockRockRockRockNormalIceElectricFireDragonDragonDragonPsychicPsychicGrassGrassGrassFireFireFireWaterWaterWaterNormalNormalNormalNormalBugBugBugBugPoisonWaterWaterElectricFairyNormalFairyFairyPsychicPsychicElectricElectricElectricGrassWaterWaterRockWaterGrassGrassGrassNormalGrassGrassBugWaterWaterPsychicDarkDarkWaterGhostPsychicPsychicNormalBugBugNormalGroundSteelFairyFairyWaterBugBugBugDarkNormalNormalFireFireIceIceWaterWaterWaterIceWaterSteelDarkDarkWaterGroundGroundNormalNormalNormalFightingFightingIceElectricFireNormalNormalElectricFireWaterRockRockRockPsychicFirePsychicGrassGrassGrassFireFireFireWaterWaterWaterDarkDarkNormalNormalBugBugBugBugBugWaterWaterWaterGrassGrassGrassNormalNormalWaterWaterPsychicPsychicPsychicBugBugGrassGrassNormalNormalNormalBugBugBugNormalNormalNormalFightingFightingNormalRockNormalNormalDarkSteelSteelSteelSteelFightingFightingElectricElectricElectricElectricBugBugGrassPoisonPoisonWaterWaterWaterWaterFireFireFirePsychicPsychicNormalGroundGroundGroundGrassGrassNormalDragonNormalPoisonRockRockWaterWaterWaterWaterGroundGroundRockRockRockRockWaterWaterNormalNormalGhostGhostGhostGhostGrassPsychicDarkPsychicIceIceIceIceIceWaterWaterWaterWaterWaterDragonDragonDragonSteelSteelSteelRockIceSteelDragonDragonWaterGroundDragonSteelPsychicGrassGrassGrassFireFireFireWaterWaterWaterNormalNormalNormalNormalNormalBugBugElectricElectricElectricGrassGrassRockRockRockRockBugBugBugBugBugElectricWaterWaterGrassGrassWaterWaterNormalGhostGhostNormalNormalGhostDarkNormalNormalPsychicPoisonPoisonSteelSteelRockPsychicNormalNormalGhostDragonDragonDragonNormalFightingFightingGroundGroundPoisonPoisonPoisonPoisonGrassWaterWaterWaterGrassGrassDarkElectricNormalGroundGrassElectricFireFairyBugGrassIceGroundIceNormalPsychicRockGhostIceElectricPsychicPsychicPsychicSteelWaterFireNormalGhostPsychicWaterWaterDarkGrassNormalPsychicGrassGrassGrassFireFireFireWaterWaterWaterNormalNormalNormalNormalNormalDarkDarkGrassGrassFireFireWaterWaterPsychicPsychicNormalNormalNormalElectricElectricRockRockRockPsychicPsychicGroundGroundNormalFightingFightingFightingWaterWaterWaterFightingFightingBugBugBugBugBugBugGrassGrassGrassGrassWaterGroundGroundGroundFireFireGrassBugBugDarkDarkPsychicGhostGhostWaterWaterRockRockPoisonPoisonDarkDarkNormalNormalPsychicPsychicPsychicPsychicPsychicPsychicWaterWaterIceIceIceNormalNormalElectricBugBugGrassGrassWaterWaterWaterBugBugGrassGrassSteelSteelSteelElectricElectricElectricPsychicPsychicGhostGhostGhostDragonDragonDragonIceIceIceBugBugGroundFightingFightingDragonGroundGroundDarkDarkNormalNormalNormalDarkDarkFireBugDarkDarkDarkBugBugSteelRockGrassFlyingElectricDragonDragonGroundDragonWaterNormalBugGrassGrassGrassFireFireFireWaterWaterWaterNormalNormalNormalFireFireBugBugBugFireFireFairyFairyFairyGrassGrassFightingFightingNormalPsychicPsychicSteelSteelSteelFairyFairyFairyFairyDarkDarkRockRockPoisonPoisonWaterWaterElectricElectricRockRockRockRockFairyFightingElectricRockDragonDragonDragonSteelGhostGhostGhostGhostIceIceFlyingFlyingFairyDarkDragonRockPsychicFire'"
      ]
     },
     "execution_count": 52,
     "metadata": {},
     "output_type": "execute_result"
    }
   ],
   "source": [
    "pokemons.sum()"
   ]
  },
  {
   "cell_type": "code",
   "execution_count": 53,
   "metadata": {},
   "outputs": [
    {
     "data": {
      "text/plain": [
       "721"
      ]
     },
     "execution_count": 53,
     "metadata": {},
     "output_type": "execute_result"
    }
   ],
   "source": [
    "pokemons.count()"
   ]
  },
  {
   "cell_type": "markdown",
   "metadata": {},
   "source": [
    "## Lec 42 apply() method"
   ]
  },
  {
   "cell_type": "code",
   "execution_count": 54,
   "metadata": {
    "collapsed": true
   },
   "outputs": [],
   "source": [
    "def custom_operation(number):\n",
    "    if number<300:\n",
    "        return \"OK\"\n",
    "    elif number>=300 and number<700:\n",
    "        return \"GOOD\"\n",
    "    else:\n",
    "        return \"excellent!\""
   ]
  },
  {
   "cell_type": "code",
   "execution_count": 56,
   "metadata": {},
   "outputs": [
    {
     "data": {
      "text/plain": [
       "3007    excellent!\n",
       "3008    excellent!\n",
       "3009    excellent!\n",
       "3010    excellent!\n",
       "3011    excellent!\n",
       "Name: Stock Price, dtype: object"
      ]
     },
     "execution_count": 56,
     "metadata": {},
     "output_type": "execute_result"
    }
   ],
   "source": [
    "google.apply(custom_operation).tail()"
   ]
  },
  {
   "cell_type": "code",
   "execution_count": 57,
   "metadata": {},
   "outputs": [
    {
     "data": {
      "text/plain": [
       "0    50.12\n",
       "1    54.10\n",
       "2    54.65\n",
       "3    52.38\n",
       "4    52.95\n",
       "Name: Stock Price, dtype: float64"
      ]
     },
     "execution_count": 57,
     "metadata": {},
     "output_type": "execute_result"
    }
   ],
   "source": [
    "google.head()"
   ]
  },
  {
   "cell_type": "code",
   "execution_count": 58,
   "metadata": {},
   "outputs": [
    {
     "data": {
      "text/plain": [
       "0    51.12\n",
       "1    55.10\n",
       "2    55.65\n",
       "3    53.38\n",
       "4    53.95\n",
       "Name: Stock Price, dtype: float64"
      ]
     },
     "execution_count": 58,
     "metadata": {},
     "output_type": "execute_result"
    }
   ],
   "source": [
    "google.apply(lambda stock_price : stock_price + 1).head()"
   ]
  },
  {
   "cell_type": "code",
   "execution_count": 63,
   "metadata": {},
   "outputs": [
    {
     "data": {
      "text/plain": [
       "0     $ 50.12\n",
       "1      $ 54.1\n",
       "2     $ 54.65\n",
       "3     $ 52.38\n",
       "4     $ 52.95\n",
       "Name: Stock Price, dtype: object"
      ]
     },
     "execution_count": 63,
     "metadata": {},
     "output_type": "execute_result"
    }
   ],
   "source": [
    "google.apply(lambda stock_price : \" $ \"+ str(stock_price)).head()"
   ]
  },
  {
   "cell_type": "markdown",
   "metadata": {},
   "source": [
    "# Lec 43 map() method"
   ]
  },
  {
   "cell_type": "code",
   "execution_count": 69,
   "metadata": {},
   "outputs": [
    {
     "data": {
      "text/plain": [
       "0     Bulbasaur\n",
       "1       Ivysaur\n",
       "2      Venusaur\n",
       "3    Charmander\n",
       "4    Charmeleon\n",
       "Name: Pokemon, dtype: object"
      ]
     },
     "execution_count": 69,
     "metadata": {},
     "output_type": "execute_result"
    }
   ],
   "source": [
    "pokemon_names = pd.read_csv(\"pokemon.csv\", usecols=[\"Pokemon\"], squeeze=True)\n",
    "pokemon_names.head()\n"
   ]
  },
  {
   "cell_type": "code",
   "execution_count": 71,
   "metadata": {},
   "outputs": [
    {
     "data": {
      "text/plain": [
       "Pokemon\n",
       "Bulbasaur     Grass\n",
       "Ivysaur       Grass\n",
       "Venusaur      Grass\n",
       "Charmander     Fire\n",
       "Charmeleon     Fire\n",
       "Name: Type, dtype: object"
      ]
     },
     "execution_count": 71,
     "metadata": {},
     "output_type": "execute_result"
    }
   ],
   "source": [
    "pokemon_type = pd.read_csv(\"pokemon.csv\", index_col=\"Pokemon\", squeeze=True)\n",
    "pokemon_type.head()"
   ]
  },
  {
   "cell_type": "code",
   "execution_count": 72,
   "metadata": {
    "collapsed": true
   },
   "outputs": [
    {
     "data": {
      "text/plain": [
       "0         Grass\n",
       "1         Grass\n",
       "2         Grass\n",
       "3          Fire\n",
       "4          Fire\n",
       "5          Fire\n",
       "6         Water\n",
       "7         Water\n",
       "8         Water\n",
       "9           Bug\n",
       "10          Bug\n",
       "11          Bug\n",
       "12          Bug\n",
       "13          Bug\n",
       "14          Bug\n",
       "15       Normal\n",
       "16       Normal\n",
       "17       Normal\n",
       "18       Normal\n",
       "19       Normal\n",
       "20       Normal\n",
       "21       Normal\n",
       "22       Poison\n",
       "23       Poison\n",
       "24     Electric\n",
       "25     Electric\n",
       "26       Ground\n",
       "27       Ground\n",
       "28       Poison\n",
       "29       Poison\n",
       "         ...   \n",
       "691       Water\n",
       "692       Water\n",
       "693    Electric\n",
       "694    Electric\n",
       "695        Rock\n",
       "696        Rock\n",
       "697        Rock\n",
       "698        Rock\n",
       "699       Fairy\n",
       "700    Fighting\n",
       "701    Electric\n",
       "702        Rock\n",
       "703      Dragon\n",
       "704      Dragon\n",
       "705      Dragon\n",
       "706       Steel\n",
       "707       Ghost\n",
       "708       Ghost\n",
       "709       Ghost\n",
       "710       Ghost\n",
       "711         Ice\n",
       "712         Ice\n",
       "713      Flying\n",
       "714      Flying\n",
       "715       Fairy\n",
       "716        Dark\n",
       "717      Dragon\n",
       "718        Rock\n",
       "719     Psychic\n",
       "720        Fire\n",
       "Name: Pokemon, Length: 721, dtype: object"
      ]
     },
     "execution_count": 72,
     "metadata": {},
     "output_type": "execute_result"
    }
   ],
   "source": [
    "pokemon_names.map(pokemon_type)"
   ]
  },
  {
   "cell_type": "code",
   "execution_count": 73,
   "metadata": {
    "collapsed": true
   },
   "outputs": [
    {
     "data": {
      "text/plain": [
       "Pokemon\n",
       "Bulbasaur     NaN\n",
       "Ivysaur       NaN\n",
       "Venusaur      NaN\n",
       "Charmander    NaN\n",
       "Charmeleon    NaN\n",
       "Charizard     NaN\n",
       "Squirtle      NaN\n",
       "Wartortle     NaN\n",
       "Blastoise     NaN\n",
       "Caterpie      NaN\n",
       "Metapod       NaN\n",
       "Butterfree    NaN\n",
       "Weedle        NaN\n",
       "Kakuna        NaN\n",
       "Beedrill      NaN\n",
       "Pidgey        NaN\n",
       "Pidgeotto     NaN\n",
       "Pidgeot       NaN\n",
       "Rattata       NaN\n",
       "Raticate      NaN\n",
       "Spearow       NaN\n",
       "Fearow        NaN\n",
       "Ekans         NaN\n",
       "Arbok         NaN\n",
       "Pikachu       NaN\n",
       "Raichu        NaN\n",
       "Sandshrew     NaN\n",
       "Sandslash     NaN\n",
       "Nidoran       NaN\n",
       "Nidorina      NaN\n",
       "             ... \n",
       "Clauncher     NaN\n",
       "Clawitzer     NaN\n",
       "Helioptile    NaN\n",
       "Heliolisk     NaN\n",
       "Tyrunt        NaN\n",
       "Tyrantrum     NaN\n",
       "Amaura        NaN\n",
       "Aurorus       NaN\n",
       "Sylveon       NaN\n",
       "Hawlucha      NaN\n",
       "Dedenne       NaN\n",
       "Carbink       NaN\n",
       "Goomy         NaN\n",
       "Sliggoo       NaN\n",
       "Goodra        NaN\n",
       "Klefki        NaN\n",
       "Phantump      NaN\n",
       "Trevenant     NaN\n",
       "Pumpkaboo     NaN\n",
       "Gourgeist     NaN\n",
       "Bergmite      NaN\n",
       "Avalugg       NaN\n",
       "Noibat        NaN\n",
       "Noivern       NaN\n",
       "Xerneas       NaN\n",
       "Yveltal       NaN\n",
       "Zygarde       NaN\n",
       "Diancie       NaN\n",
       "Hoopa         NaN\n",
       "Volcanion     NaN\n",
       "Name: Type, Length: 721, dtype: object"
      ]
     },
     "execution_count": 73,
     "metadata": {},
     "output_type": "execute_result"
    }
   ],
   "source": [
    "pokemon_type.map(pokemon_names)"
   ]
  },
  {
   "cell_type": "code",
   "execution_count": 74,
   "metadata": {},
   "outputs": [
    {
     "data": {
      "text/plain": [
       "{'Abomasnow': 'Grass',\n",
       " 'Abra': 'Psychic',\n",
       " 'Absol': 'Dark',\n",
       " 'Accelgor': 'Bug',\n",
       " 'Aegislash': 'Steel',\n",
       " 'Aerodactyl': 'Rock',\n",
       " 'Aggron': 'Steel',\n",
       " 'Aipom': 'Normal',\n",
       " 'Alakazam': 'Psychic',\n",
       " 'Alomomola': 'Water',\n",
       " 'Altaria': 'Dragon',\n",
       " 'Amaura': 'Rock',\n",
       " 'Ambipom': 'Normal',\n",
       " 'Amoonguss': 'Grass',\n",
       " 'Ampharos': 'Electric',\n",
       " 'Anorith': 'Rock',\n",
       " 'Arbok': 'Poison',\n",
       " 'Arcanine': 'Fire',\n",
       " 'Arceus': 'Normal',\n",
       " 'Archen': 'Rock',\n",
       " 'Archeops': 'Rock',\n",
       " 'Ariados': 'Bug',\n",
       " 'Armaldo': 'Rock',\n",
       " 'Aromatisse': 'Fairy',\n",
       " 'Aron': 'Steel',\n",
       " 'Articuno': 'Ice',\n",
       " 'Audino': 'Normal',\n",
       " 'Aurorus': 'Rock',\n",
       " 'Avalugg': 'Ice',\n",
       " 'Axew': 'Dragon',\n",
       " 'Azelf': 'Psychic',\n",
       " 'Azumarill': 'Water',\n",
       " 'Azurill': 'Normal',\n",
       " 'Bagon': 'Dragon',\n",
       " 'Baltoy': 'Ground',\n",
       " 'Banette': 'Ghost',\n",
       " 'Barbaracle': 'Rock',\n",
       " 'Barboach': 'Water',\n",
       " 'Basculin': 'Water',\n",
       " 'Bastiodon': 'Rock',\n",
       " 'Bayleef': 'Grass',\n",
       " 'Beartic': 'Ice',\n",
       " 'Beautifly': 'Bug',\n",
       " 'Beedrill': 'Bug',\n",
       " 'Beheeyem': 'Psychic',\n",
       " 'Beldum': 'Steel',\n",
       " 'Bellossom': 'Grass',\n",
       " 'Bellsprout': 'Grass',\n",
       " 'Bergmite': 'Ice',\n",
       " 'Bibarel': 'Normal',\n",
       " 'Bidoof': 'Normal',\n",
       " 'Binacle': 'Rock',\n",
       " 'Bisharp': 'Dark',\n",
       " 'Blastoise': 'Water',\n",
       " 'Blaziken': 'Fire',\n",
       " 'Blissey': 'Normal',\n",
       " 'Blitzle': 'Electric',\n",
       " 'Boldore': 'Rock',\n",
       " 'Bonsly': 'Rock',\n",
       " 'Bouffalant': 'Normal',\n",
       " 'Braixen': 'Fire',\n",
       " 'Braviary': 'Normal',\n",
       " 'Breloom': 'Grass',\n",
       " 'Bronzong': 'Steel',\n",
       " 'Bronzor': 'Steel',\n",
       " 'Budew': 'Grass',\n",
       " 'Buizel': 'Water',\n",
       " 'Bulbasaur': 'Grass',\n",
       " 'Buneary': 'Normal',\n",
       " 'Bunnelby': 'Normal',\n",
       " 'Burmy': 'Bug',\n",
       " 'Butterfree': 'Bug',\n",
       " 'Cacnea': 'Grass',\n",
       " 'Cacturne': 'Grass',\n",
       " 'Camerupt': 'Fire',\n",
       " 'Carbink': 'Rock',\n",
       " 'Carnivine': 'Grass',\n",
       " 'Carracosta': 'Water',\n",
       " 'Carvanha': 'Water',\n",
       " 'Cascoon': 'Bug',\n",
       " 'Castform': 'Normal',\n",
       " 'Caterpie': 'Bug',\n",
       " 'Celebi': 'Psychic',\n",
       " 'Chandelure': 'Ghost',\n",
       " 'Chansey': 'Normal',\n",
       " 'Charizard': 'Fire',\n",
       " 'Charmander': 'Fire',\n",
       " 'Charmeleon': 'Fire',\n",
       " 'Chatot': 'Normal',\n",
       " 'Cherrim': 'Grass',\n",
       " 'Cherubi': 'Grass',\n",
       " 'Chesnaught': 'Grass',\n",
       " 'Chespin': 'Grass',\n",
       " 'Chikorita': 'Grass',\n",
       " 'Chimchar': 'Fire',\n",
       " 'Chimecho': 'Psychic',\n",
       " 'Chinchou': 'Water',\n",
       " 'Chingling': 'Psychic',\n",
       " 'Cinccino': 'Normal',\n",
       " 'Clamperl': 'Water',\n",
       " 'Clauncher': 'Water',\n",
       " 'Clawitzer': 'Water',\n",
       " 'Claydol': 'Ground',\n",
       " 'Clefable': 'Fairy',\n",
       " 'Clefairy': 'Fairy',\n",
       " 'Cleffa': 'Fairy',\n",
       " 'Cloyster': 'Water',\n",
       " 'Cobalion': 'Steel',\n",
       " 'Cofagrigus': 'Ghost',\n",
       " 'Combee': 'Bug',\n",
       " 'Combusken': 'Fire',\n",
       " 'Conkeldurr': 'Fighting',\n",
       " 'Corphish': 'Water',\n",
       " 'Corsola': 'Water',\n",
       " 'Cottonee': 'Grass',\n",
       " 'Cradily': 'Rock',\n",
       " 'Cranidos': 'Rock',\n",
       " 'Crawdaunt': 'Water',\n",
       " 'Cresselia': 'Psychic',\n",
       " 'Croagunk': 'Poison',\n",
       " 'Crobat': 'Poison',\n",
       " 'Croconaw': 'Water',\n",
       " 'Crustle': 'Bug',\n",
       " 'Cryogonal': 'Ice',\n",
       " 'Cubchoo': 'Ice',\n",
       " 'Cubone': 'Ground',\n",
       " 'Cyndaquil': 'Fire',\n",
       " 'Darkrai': 'Dark',\n",
       " 'Darmanitan': 'Fire',\n",
       " 'Darumaka': 'Fire',\n",
       " 'Dedenne': 'Electric',\n",
       " 'Deerling': 'Normal',\n",
       " 'Deino': 'Dark',\n",
       " 'Delcatty': 'Normal',\n",
       " 'Delibird': 'Ice',\n",
       " 'Delphox': 'Fire',\n",
       " 'Deoxys': 'Psychic',\n",
       " 'Dewgong': 'Water',\n",
       " 'Dewott': 'Water',\n",
       " 'Dialga': 'Steel',\n",
       " 'Diancie': 'Rock',\n",
       " 'Diggersby': 'Normal',\n",
       " 'Diglett': 'Ground',\n",
       " 'Ditto': 'Normal',\n",
       " 'Dodrio': 'Normal',\n",
       " 'Doduo': 'Normal',\n",
       " 'Donphan': 'Ground',\n",
       " 'Doublade': 'Steel',\n",
       " 'Dragalge': 'Poison',\n",
       " 'Dragonair': 'Dragon',\n",
       " 'Dragonite': 'Dragon',\n",
       " 'Drapion': 'Poison',\n",
       " 'Dratini': 'Dragon',\n",
       " 'Drifblim': 'Ghost',\n",
       " 'Drifloon': 'Ghost',\n",
       " 'Drilbur': 'Ground',\n",
       " 'Drowzee': 'Psychic',\n",
       " 'Druddigon': 'Dragon',\n",
       " 'Ducklett': 'Water',\n",
       " 'Dugtrio': 'Ground',\n",
       " 'Dunsparce': 'Normal',\n",
       " 'Duosion': 'Psychic',\n",
       " 'Durant': 'Bug',\n",
       " 'Dusclops': 'Ghost',\n",
       " 'Dusknoir': 'Ghost',\n",
       " 'Duskull': 'Ghost',\n",
       " 'Dustox': 'Bug',\n",
       " 'Dwebble': 'Bug',\n",
       " 'Eelektrik': 'Electric',\n",
       " 'Eelektross': 'Electric',\n",
       " 'Eevee': 'Normal',\n",
       " 'Ekans': 'Poison',\n",
       " 'Electabuzz': 'Electric',\n",
       " 'Electivire': 'Electric',\n",
       " 'Electrike': 'Electric',\n",
       " 'Electrode': 'Electric',\n",
       " 'Elekid': 'Electric',\n",
       " 'Elgyem': 'Psychic',\n",
       " 'Emboar': 'Fire',\n",
       " 'Emolga': 'Electric',\n",
       " 'Empoleon': 'Water',\n",
       " 'Entei': 'Fire',\n",
       " 'Escavalier': 'Bug',\n",
       " 'Espeon': 'Psychic',\n",
       " 'Espurr': 'Psychic',\n",
       " 'Excadrill': 'Ground',\n",
       " 'Exeggcute': 'Grass',\n",
       " 'Exeggutor': 'Grass',\n",
       " 'Exploud': 'Normal',\n",
       " \"Farfetch'd\": 'Normal',\n",
       " 'Fearow': 'Normal',\n",
       " 'Feebas': 'Water',\n",
       " 'Fennekin': 'Fire',\n",
       " 'Feraligatr': 'Water',\n",
       " 'Ferroseed': 'Grass',\n",
       " 'Ferrothorn': 'Grass',\n",
       " 'Finneon': 'Water',\n",
       " 'Flaaffy': 'Electric',\n",
       " 'Flabébé': 'Fairy',\n",
       " 'Flareon': 'Fire',\n",
       " 'Fletchinder': 'Fire',\n",
       " 'Fletchling': 'Normal',\n",
       " 'Floatzel': 'Water',\n",
       " 'Floette': 'Fairy',\n",
       " 'Florges': 'Fairy',\n",
       " 'Flygon': 'Ground',\n",
       " 'Foongus': 'Grass',\n",
       " 'Forretress': 'Bug',\n",
       " 'Fraxure': 'Dragon',\n",
       " 'Frillish': 'Water',\n",
       " 'Froakie': 'Water',\n",
       " 'Frogadier': 'Water',\n",
       " 'Froslass': 'Ice',\n",
       " 'Furfrou': 'Normal',\n",
       " 'Furret': 'Normal',\n",
       " 'Gabite': 'Dragon',\n",
       " 'Gallade': 'Psychic',\n",
       " 'Galvantula': 'Bug',\n",
       " 'Garbodor': 'Poison',\n",
       " 'Garchomp': 'Dragon',\n",
       " 'Gardevoir': 'Psychic',\n",
       " 'Gastly': 'Ghost',\n",
       " 'Gastrodon': 'Water',\n",
       " 'Genesect': 'Bug',\n",
       " 'Gengar': 'Ghost',\n",
       " 'Geodude': 'Rock',\n",
       " 'Gible': 'Dragon',\n",
       " 'Gigalith': 'Rock',\n",
       " 'Girafarig': 'Normal',\n",
       " 'Giratina': 'Ghost',\n",
       " 'Glaceon': 'Ice',\n",
       " 'Glalie': 'Ice',\n",
       " 'Glameow': 'Normal',\n",
       " 'Gligar': 'Ground',\n",
       " 'Gliscor': 'Ground',\n",
       " 'Gloom': 'Grass',\n",
       " 'Gogoat': 'Grass',\n",
       " 'Golbat': 'Poison',\n",
       " 'Goldeen': 'Water',\n",
       " 'Golduck': 'Water',\n",
       " 'Golem': 'Rock',\n",
       " 'Golett': 'Ground',\n",
       " 'Golurk': 'Ground',\n",
       " 'Goodra': 'Dragon',\n",
       " 'Goomy': 'Dragon',\n",
       " 'Gorebyss': 'Water',\n",
       " 'Gothita': 'Psychic',\n",
       " 'Gothitelle': 'Psychic',\n",
       " 'Gothorita': 'Psychic',\n",
       " 'Gourgeist': 'Ghost',\n",
       " 'Granbull': 'Fairy',\n",
       " 'Graveler': 'Rock',\n",
       " 'Greninja': 'Water',\n",
       " 'Grimer': 'Poison',\n",
       " 'Grotle': 'Grass',\n",
       " 'Groudon': 'Ground',\n",
       " 'Grovyle': 'Grass',\n",
       " 'Growlithe': 'Fire',\n",
       " 'Grumpig': 'Psychic',\n",
       " 'Gulpin': 'Poison',\n",
       " 'Gurdurr': 'Fighting',\n",
       " 'Gyarados': 'Water',\n",
       " 'Happiny': 'Normal',\n",
       " 'Hariyama': 'Fighting',\n",
       " 'Haunter': 'Ghost',\n",
       " 'Hawlucha': 'Fighting',\n",
       " 'Haxorus': 'Dragon',\n",
       " 'Heatmor': 'Fire',\n",
       " 'Heatran': 'Fire',\n",
       " 'Heliolisk': 'Electric',\n",
       " 'Helioptile': 'Electric',\n",
       " 'Heracross': 'Bug',\n",
       " 'Herdier': 'Normal',\n",
       " 'Hippopotas': 'Ground',\n",
       " 'Hippowdon': 'Ground',\n",
       " 'Hitmonchan': 'Fighting',\n",
       " 'Hitmonlee': 'Fighting',\n",
       " 'Hitmontop': 'Fighting',\n",
       " 'Ho-oh': 'Fire',\n",
       " 'Honchkrow': 'Dark',\n",
       " 'Honedge': 'Steel',\n",
       " 'Hoopa': 'Psychic',\n",
       " 'Hoothoot': 'Normal',\n",
       " 'Hoppip': 'Grass',\n",
       " 'Horsea': 'Water',\n",
       " 'Houndoom': 'Dark',\n",
       " 'Houndour': 'Dark',\n",
       " 'Huntail': 'Water',\n",
       " 'Hydreigon': 'Dark',\n",
       " 'Hypno': 'Psychic',\n",
       " 'Igglybuff': 'Normal',\n",
       " 'Illumise': 'Bug',\n",
       " 'Infernape': 'Fire',\n",
       " 'Inkay': 'Dark',\n",
       " 'Ivysaur': 'Grass',\n",
       " 'Jellicent': 'Water',\n",
       " 'Jigglypuff': 'Normal',\n",
       " 'Jirachi': 'Steel',\n",
       " 'Jolteon': 'Electric',\n",
       " 'Joltik': 'Bug',\n",
       " 'Jumpluff': 'Grass',\n",
       " 'Jynx': 'Ice',\n",
       " 'Kabuto': 'Rock',\n",
       " 'Kabutops': 'Rock',\n",
       " 'Kadabra': 'Psychic',\n",
       " 'Kakuna': 'Bug',\n",
       " 'Kangaskhan': 'Normal',\n",
       " 'Karrablast': 'Bug',\n",
       " 'Kecleon': 'Normal',\n",
       " 'Keldeo': 'Water',\n",
       " 'Kingdra': 'Water',\n",
       " 'Kingler': 'Water',\n",
       " 'Kirlia': 'Psychic',\n",
       " 'Klang': 'Steel',\n",
       " 'Klefki': 'Steel',\n",
       " 'Klink': 'Steel',\n",
       " 'Klinklang': 'Steel',\n",
       " 'Koffing': 'Poison',\n",
       " 'Krabby': 'Water',\n",
       " 'Kricketot': 'Bug',\n",
       " 'Kricketune': 'Bug',\n",
       " 'Krokorok': 'Ground',\n",
       " 'Krookodile': 'Ground',\n",
       " 'Kyogre': 'Water',\n",
       " 'Kyurem': 'Dragon',\n",
       " 'Lairon': 'Steel',\n",
       " 'Lampent': 'Ghost',\n",
       " 'Landorus': 'Ground',\n",
       " 'Lanturn': 'Water',\n",
       " 'Lapras': 'Water',\n",
       " 'Larvesta': 'Bug',\n",
       " 'Larvitar': 'Rock',\n",
       " 'Latias': 'Dragon',\n",
       " 'Latios': 'Dragon',\n",
       " 'Leafeon': 'Grass',\n",
       " 'Leavanny': 'Bug',\n",
       " 'Ledian': 'Bug',\n",
       " 'Ledyba': 'Bug',\n",
       " 'Lickilicky': 'Normal',\n",
       " 'Lickitung': 'Normal',\n",
       " 'Liepard': 'Dark',\n",
       " 'Lileep': 'Rock',\n",
       " 'Lilligant': 'Grass',\n",
       " 'Lillipup': 'Normal',\n",
       " 'Linoone': 'Normal',\n",
       " 'Litleo': 'Fire',\n",
       " 'Litwick': 'Ghost',\n",
       " 'Lombre': 'Water',\n",
       " 'Lopunny': 'Normal',\n",
       " 'Lotad': 'Water',\n",
       " 'Loudred': 'Normal',\n",
       " 'Lucario': 'Fighting',\n",
       " 'Ludicolo': 'Water',\n",
       " 'Lugia': 'Psychic',\n",
       " 'Lumineon': 'Water',\n",
       " 'Lunatone': 'Rock',\n",
       " 'Luvdisc': 'Water',\n",
       " 'Luxio': 'Electric',\n",
       " 'Luxray': 'Electric',\n",
       " 'Machamp': 'Fighting',\n",
       " 'Machoke': 'Fighting',\n",
       " 'Machop': 'Fighting',\n",
       " 'Magby': 'Fire',\n",
       " 'Magcargo': 'Fire',\n",
       " 'Magikarp': 'Water',\n",
       " 'Magmar': 'Fire',\n",
       " 'Magmortar': 'Fire',\n",
       " 'Magnemite': 'Electric',\n",
       " 'Magneton': 'Electric',\n",
       " 'Magnezone': 'Electric',\n",
       " 'Makuhita': 'Fighting',\n",
       " 'Malamar': 'Dark',\n",
       " 'Mamoswine': 'Ice',\n",
       " 'Manaphy': 'Water',\n",
       " 'Mandibuzz': 'Dark',\n",
       " 'Manectric': 'Electric',\n",
       " 'Mankey': 'Fighting',\n",
       " 'Mantine': 'Water',\n",
       " 'Mantyke': 'Water',\n",
       " 'Maractus': 'Grass',\n",
       " 'Mareep': 'Electric',\n",
       " 'Marill': 'Water',\n",
       " 'Marowak': 'Ground',\n",
       " 'Marshtomp': 'Water',\n",
       " 'Masquerain': 'Bug',\n",
       " 'Mawile': 'Steel',\n",
       " 'Medicham': 'Fighting',\n",
       " 'Meditite': 'Fighting',\n",
       " 'Meganium': 'Grass',\n",
       " 'Meloetta': 'Normal',\n",
       " 'Meowstic': 'Psychic',\n",
       " 'Meowth': 'Normal',\n",
       " 'Mesprit': 'Psychic',\n",
       " 'Metagross': 'Steel',\n",
       " 'Metang': 'Steel',\n",
       " 'Metapod': 'Bug',\n",
       " 'Mew': 'Psychic',\n",
       " 'Mewtwo': 'Psychic',\n",
       " 'Mienfoo': 'Fighting',\n",
       " 'Mienshao': 'Fighting',\n",
       " 'Mightyena': 'Dark',\n",
       " 'Milotic': 'Water',\n",
       " 'Miltank': 'Normal',\n",
       " 'Mime Jr.': 'Psychic',\n",
       " 'Minccino': 'Normal',\n",
       " 'Minun': 'Electric',\n",
       " 'Misdreavus': 'Ghost',\n",
       " 'Mismagius': 'Ghost',\n",
       " 'Moltres': 'Fire',\n",
       " 'Monferno': 'Fire',\n",
       " 'Mothim': 'Bug',\n",
       " 'Mr. Mime': 'Psychic',\n",
       " 'Mudkip': 'Water',\n",
       " 'Muk': 'Poison',\n",
       " 'Munchlax': 'Normal',\n",
       " 'Munna': 'Psychic',\n",
       " 'Murkrow': 'Dark',\n",
       " 'Musharna': 'Psychic',\n",
       " 'Natu': 'Psychic',\n",
       " 'Nidoking': 'Poison',\n",
       " 'Nidoqueen': 'Poison',\n",
       " 'Nidoran': 'Poison',\n",
       " 'Nidoran♂': 'Poison',\n",
       " 'Nidorina': 'Poison',\n",
       " 'Nidorino': 'Poison',\n",
       " 'Nincada': 'Bug',\n",
       " 'Ninetales': 'Fire',\n",
       " 'Ninjask': 'Bug',\n",
       " 'Noctowl': 'Normal',\n",
       " 'Noibat': 'Flying',\n",
       " 'Noivern': 'Flying',\n",
       " 'Nosepass': 'Rock',\n",
       " 'Numel': 'Fire',\n",
       " 'Nuzleaf': 'Grass',\n",
       " 'Octillery': 'Water',\n",
       " 'Oddish': 'Grass',\n",
       " 'Omanyte': 'Rock',\n",
       " 'Omastar': 'Rock',\n",
       " 'Onix': 'Rock',\n",
       " 'Oshawott': 'Water',\n",
       " 'Pachirisu': 'Electric',\n",
       " 'Palkia': 'Water',\n",
       " 'Palpitoad': 'Water',\n",
       " 'Pancham': 'Fighting',\n",
       " 'Pangoro': 'Fighting',\n",
       " 'Panpour': 'Water',\n",
       " 'Pansage': 'Grass',\n",
       " 'Pansear': 'Fire',\n",
       " 'Paras': 'Bug',\n",
       " 'Parasect': 'Bug',\n",
       " 'Patrat': 'Normal',\n",
       " 'Pawniard': 'Dark',\n",
       " 'Pelipper': 'Water',\n",
       " 'Persian': 'Normal',\n",
       " 'Petilil': 'Grass',\n",
       " 'Phanpy': 'Ground',\n",
       " 'Phantump': 'Ghost',\n",
       " 'Phione': 'Water',\n",
       " 'Pichu': 'Electric',\n",
       " 'Pidgeot': 'Normal',\n",
       " 'Pidgeotto': 'Normal',\n",
       " 'Pidgey': 'Normal',\n",
       " 'Pidove': 'Normal',\n",
       " 'Pignite': 'Fire',\n",
       " 'Pikachu': 'Electric',\n",
       " 'Piloswine': 'Ice',\n",
       " 'Pineco': 'Bug',\n",
       " 'Pinsir': 'Bug',\n",
       " 'Piplup': 'Water',\n",
       " 'Plusle': 'Electric',\n",
       " 'Politoed': 'Water',\n",
       " 'Poliwag': 'Water',\n",
       " 'Poliwhirl': 'Water',\n",
       " 'Poliwrath': 'Water',\n",
       " 'Ponyta': 'Fire',\n",
       " 'Poochyena': 'Dark',\n",
       " 'Porygon': 'Normal',\n",
       " 'Porygon-Z': 'Normal',\n",
       " 'Porygon2': 'Normal',\n",
       " 'Primeape': 'Fighting',\n",
       " 'Prinplup': 'Water',\n",
       " 'Probopass': 'Rock',\n",
       " 'Psyduck': 'Water',\n",
       " 'Pumpkaboo': 'Ghost',\n",
       " 'Pupitar': 'Rock',\n",
       " 'Purrloin': 'Dark',\n",
       " 'Purugly': 'Normal',\n",
       " 'Pyroar': 'Fire',\n",
       " 'Quagsire': 'Water',\n",
       " 'Quilava': 'Fire',\n",
       " 'Quilladin': 'Grass',\n",
       " 'Qwilfish': 'Water',\n",
       " 'Raichu': 'Electric',\n",
       " 'Raikou': 'Electric',\n",
       " 'Ralts': 'Psychic',\n",
       " 'Rampardos': 'Rock',\n",
       " 'Rapidash': 'Fire',\n",
       " 'Raticate': 'Normal',\n",
       " 'Rattata': 'Normal',\n",
       " 'Rayquaza': 'Dragon',\n",
       " 'Regice': 'Ice',\n",
       " 'Regigigas': 'Normal',\n",
       " 'Regirock': 'Rock',\n",
       " 'Registeel': 'Steel',\n",
       " 'Relicanth': 'Water',\n",
       " 'Remoraid': 'Water',\n",
       " 'Reshiram': 'Dragon',\n",
       " 'Reuniclus': 'Psychic',\n",
       " 'Rhydon': 'Ground',\n",
       " 'Rhyhorn': 'Ground',\n",
       " 'Rhyperior': 'Ground',\n",
       " 'Riolu': 'Fighting',\n",
       " 'Roggenrola': 'Rock',\n",
       " 'Roselia': 'Grass',\n",
       " 'Roserade': 'Grass',\n",
       " 'Rotom': 'Electric',\n",
       " 'Rufflet': 'Normal',\n",
       " 'Sableye': 'Dark',\n",
       " 'Salamence': 'Dragon',\n",
       " 'Samurott': 'Water',\n",
       " 'Sandile': 'Ground',\n",
       " 'Sandshrew': 'Ground',\n",
       " 'Sandslash': 'Ground',\n",
       " 'Sawk': 'Fighting',\n",
       " 'Sawsbuck': 'Normal',\n",
       " 'Scatterbug': 'Bug',\n",
       " 'Sceptile': 'Grass',\n",
       " 'Scizor': 'Bug',\n",
       " 'Scolipede': 'Bug',\n",
       " 'Scrafty': 'Dark',\n",
       " 'Scraggy': 'Dark',\n",
       " 'Scyther': 'Bug',\n",
       " 'Seadra': 'Water',\n",
       " 'Seaking': 'Water',\n",
       " 'Sealeo': 'Ice',\n",
       " 'Seedot': 'Grass',\n",
       " 'Seel': 'Water',\n",
       " 'Seismitoad': 'Water',\n",
       " 'Sentret': 'Normal',\n",
       " 'Serperior': 'Grass',\n",
       " 'Servine': 'Grass',\n",
       " 'Seviper': 'Poison',\n",
       " 'Sewaddle': 'Bug',\n",
       " 'Sharpedo': 'Water',\n",
       " 'Shaymin': 'Grass',\n",
       " 'Shedinja': 'Bug',\n",
       " 'Shelgon': 'Dragon',\n",
       " 'Shellder': 'Water',\n",
       " 'Shellos': 'Water',\n",
       " 'Shelmet': 'Bug',\n",
       " 'Shieldon': 'Rock',\n",
       " 'Shiftry': 'Grass',\n",
       " 'Shinx': 'Electric',\n",
       " 'Shroomish': 'Grass',\n",
       " 'Shuckle': 'Bug',\n",
       " 'Shuppet': 'Ghost',\n",
       " 'Sigilyph': 'Psychic',\n",
       " 'Silcoon': 'Bug',\n",
       " 'Simipour': 'Water',\n",
       " 'Simisage': 'Grass',\n",
       " 'Simisear': 'Fire',\n",
       " 'Skarmory': 'Steel',\n",
       " 'Skiddo': 'Grass',\n",
       " 'Skiploom': 'Grass',\n",
       " 'Skitty': 'Normal',\n",
       " 'Skorupi': 'Poison',\n",
       " 'Skrelp': 'Poison',\n",
       " 'Skuntank': 'Poison',\n",
       " 'Slaking': 'Normal',\n",
       " 'Slakoth': 'Normal',\n",
       " 'Sliggoo': 'Dragon',\n",
       " 'Slowbro': 'Water',\n",
       " 'Slowking': 'Water',\n",
       " 'Slowpoke': 'Water',\n",
       " 'Slugma': 'Fire',\n",
       " 'Slurpuff': 'Fairy',\n",
       " 'Smeargle': 'Normal',\n",
       " 'Smoochum': 'Ice',\n",
       " 'Sneasel': 'Dark',\n",
       " 'Snivy': 'Grass',\n",
       " 'Snorlax': 'Normal',\n",
       " 'Snorunt': 'Ice',\n",
       " 'Snover': 'Grass',\n",
       " 'Snubbull': 'Fairy',\n",
       " 'Solosis': 'Psychic',\n",
       " 'Solrock': 'Rock',\n",
       " 'Spearow': 'Normal',\n",
       " 'Spewpa': 'Bug',\n",
       " 'Spheal': 'Ice',\n",
       " 'Spinarak': 'Bug',\n",
       " 'Spinda': 'Normal',\n",
       " 'Spiritomb': 'Ghost',\n",
       " 'Spoink': 'Psychic',\n",
       " 'Spritzee': 'Fairy',\n",
       " 'Squirtle': 'Water',\n",
       " 'Stantler': 'Normal',\n",
       " 'Staraptor': 'Normal',\n",
       " 'Staravia': 'Normal',\n",
       " 'Starly': 'Normal',\n",
       " 'Starmie': 'Water',\n",
       " 'Staryu': 'Water',\n",
       " 'Steelix': 'Steel',\n",
       " 'Stoutland': 'Normal',\n",
       " 'Stunfisk': 'Ground',\n",
       " 'Stunky': 'Poison',\n",
       " 'Sudowoodo': 'Rock',\n",
       " 'Suicune': 'Water',\n",
       " 'Sunflora': 'Grass',\n",
       " 'Sunkern': 'Grass',\n",
       " 'Surskit': 'Bug',\n",
       " 'Swablu': 'Normal',\n",
       " 'Swadloon': 'Bug',\n",
       " 'Swalot': 'Poison',\n",
       " 'Swampert': 'Water',\n",
       " 'Swanna': 'Water',\n",
       " 'Swellow': 'Normal',\n",
       " 'Swinub': 'Ice',\n",
       " 'Swirlix': 'Fairy',\n",
       " 'Swoobat': 'Psychic',\n",
       " 'Sylveon': 'Fairy',\n",
       " 'Taillow': 'Normal',\n",
       " 'Talonflame': 'Fire',\n",
       " 'Tangela': 'Grass',\n",
       " 'Tangrowth': 'Grass',\n",
       " 'Tauros': 'Normal',\n",
       " 'Teddiursa': 'Normal',\n",
       " 'Tentacool': 'Water',\n",
       " 'Tentacruel': 'Water',\n",
       " 'Tepig': 'Fire',\n",
       " 'Terrakion': 'Rock',\n",
       " 'Throh': 'Fighting',\n",
       " 'Thundurus': 'Electric',\n",
       " 'Timburr': 'Fighting',\n",
       " 'Tirtouga': 'Water',\n",
       " 'Togekiss': 'Fairy',\n",
       " 'Togepi': 'Fairy',\n",
       " 'Togetic': 'Fairy',\n",
       " 'Torchic': 'Fire',\n",
       " 'Torkoal': 'Fire',\n",
       " 'Tornadus': 'Flying',\n",
       " 'Torterra': 'Grass',\n",
       " 'Totodile': 'Water',\n",
       " 'Toxicroak': 'Poison',\n",
       " 'Tranquill': 'Normal',\n",
       " 'Trapinch': 'Ground',\n",
       " 'Treecko': 'Grass',\n",
       " 'Trevenant': 'Ghost',\n",
       " 'Tropius': 'Grass',\n",
       " 'Trubbish': 'Poison',\n",
       " 'Turtwig': 'Grass',\n",
       " 'Tympole': 'Water',\n",
       " 'Tynamo': 'Electric',\n",
       " 'Typhlosion': 'Fire',\n",
       " 'Tyranitar': 'Rock',\n",
       " 'Tyrantrum': 'Rock',\n",
       " 'Tyrogue': 'Fighting',\n",
       " 'Tyrunt': 'Rock',\n",
       " 'Umbreon': 'Dark',\n",
       " 'Unfezant': 'Normal',\n",
       " 'Unown': 'Psychic',\n",
       " 'Ursaring': 'Normal',\n",
       " 'Uxie': 'Psychic',\n",
       " 'Vanillish': 'Ice',\n",
       " 'Vanillite': 'Ice',\n",
       " 'Vanilluxe': 'Ice',\n",
       " 'Vaporeon': 'Water',\n",
       " 'Venipede': 'Bug',\n",
       " 'Venomoth': 'Bug',\n",
       " 'Venonat': 'Bug',\n",
       " 'Venusaur': 'Grass',\n",
       " 'Vespiquen': 'Bug',\n",
       " 'Vibrava': 'Ground',\n",
       " 'Victini': 'Psychic',\n",
       " 'Victreebel': 'Grass',\n",
       " 'Vigoroth': 'Normal',\n",
       " 'Vileplume': 'Grass',\n",
       " 'Virizion': 'Grass',\n",
       " 'Vivillon': 'Bug',\n",
       " 'Volbeat': 'Bug',\n",
       " 'Volcanion': 'Fire',\n",
       " 'Volcarona': 'Bug',\n",
       " 'Voltorb': 'Electric',\n",
       " 'Vullaby': 'Dark',\n",
       " 'Vulpix': 'Fire',\n",
       " 'Wailmer': 'Water',\n",
       " 'Wailord': 'Water',\n",
       " 'Walrein': 'Ice',\n",
       " 'Wartortle': 'Water',\n",
       " 'Watchog': 'Normal',\n",
       " 'Weavile': 'Dark',\n",
       " 'Weedle': 'Bug',\n",
       " 'Weepinbell': 'Grass',\n",
       " 'Weezing': 'Poison',\n",
       " 'Whimsicott': 'Grass',\n",
       " 'Whirlipede': 'Bug',\n",
       " 'Whiscash': 'Water',\n",
       " 'Whismur': 'Normal',\n",
       " 'Wigglytuff': 'Normal',\n",
       " 'Wingull': 'Water',\n",
       " 'Wobbuffet': 'Psychic',\n",
       " 'Woobat': 'Psychic',\n",
       " 'Wooper': 'Water',\n",
       " 'Wormadam': 'Bug',\n",
       " 'Wurmple': 'Bug',\n",
       " 'Wynaut': 'Psychic',\n",
       " 'Xatu': 'Psychic',\n",
       " 'Xerneas': 'Fairy',\n",
       " 'Yamask': 'Ghost',\n",
       " 'Yanma': 'Bug',\n",
       " 'Yanmega': 'Bug',\n",
       " 'Yveltal': 'Dark',\n",
       " 'Zangoose': 'Normal',\n",
       " 'Zapdos': 'Electric',\n",
       " 'Zebstrika': 'Electric',\n",
       " 'Zekrom': 'Dragon',\n",
       " 'Zigzagoon': 'Normal',\n",
       " 'Zoroark': 'Dark',\n",
       " 'Zorua': 'Dark',\n",
       " 'Zubat': 'Poison',\n",
       " 'Zweilous': 'Dark',\n",
       " 'Zygarde': 'Dragon'}"
      ]
     },
     "execution_count": 74,
     "metadata": {},
     "output_type": "execute_result"
    }
   ],
   "source": [
    "pokemon_type.to_dict()"
   ]
  },
  {
   "cell_type": "code",
   "execution_count": 75,
   "metadata": {},
   "outputs": [
    {
     "data": {
      "text/plain": [
       "0         Grass\n",
       "1         Grass\n",
       "2         Grass\n",
       "3          Fire\n",
       "4          Fire\n",
       "5          Fire\n",
       "6         Water\n",
       "7         Water\n",
       "8         Water\n",
       "9           Bug\n",
       "10          Bug\n",
       "11          Bug\n",
       "12          Bug\n",
       "13          Bug\n",
       "14          Bug\n",
       "15       Normal\n",
       "16       Normal\n",
       "17       Normal\n",
       "18       Normal\n",
       "19       Normal\n",
       "20       Normal\n",
       "21       Normal\n",
       "22       Poison\n",
       "23       Poison\n",
       "24     Electric\n",
       "25     Electric\n",
       "26       Ground\n",
       "27       Ground\n",
       "28       Poison\n",
       "29       Poison\n",
       "         ...   \n",
       "691       Water\n",
       "692       Water\n",
       "693    Electric\n",
       "694    Electric\n",
       "695        Rock\n",
       "696        Rock\n",
       "697        Rock\n",
       "698        Rock\n",
       "699       Fairy\n",
       "700    Fighting\n",
       "701    Electric\n",
       "702        Rock\n",
       "703      Dragon\n",
       "704      Dragon\n",
       "705      Dragon\n",
       "706       Steel\n",
       "707       Ghost\n",
       "708       Ghost\n",
       "709       Ghost\n",
       "710       Ghost\n",
       "711         Ice\n",
       "712         Ice\n",
       "713      Flying\n",
       "714      Flying\n",
       "715       Fairy\n",
       "716        Dark\n",
       "717      Dragon\n",
       "718        Rock\n",
       "719     Psychic\n",
       "720        Fire\n",
       "Name: Pokemon, Length: 721, dtype: object"
      ]
     },
     "execution_count": 75,
     "metadata": {},
     "output_type": "execute_result"
    }
   ],
   "source": [
    "pokemon_names.map(pokemon_type.to_dict())"
   ]
  },
  {
   "cell_type": "code",
   "execution_count": null,
   "metadata": {
    "collapsed": true
   },
   "outputs": [],
   "source": []
  }
 ],
 "metadata": {
  "kernelspec": {
   "display_name": "Python 3",
   "language": "python",
   "name": "python3"
  },
  "language_info": {
   "codemirror_mode": {
    "name": "ipython",
    "version": 3
   },
   "file_extension": ".py",
   "mimetype": "text/x-python",
   "name": "python",
   "nbconvert_exporter": "python",
   "pygments_lexer": "ipython3",
   "version": "3.6.1"
  }
 },
 "nbformat": 4,
 "nbformat_minor": 2
}
